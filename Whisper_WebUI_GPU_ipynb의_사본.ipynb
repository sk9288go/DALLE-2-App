{
  "cells": [
    {
      "cell_type": "markdown",
      "metadata": {
        "id": "view-in-github",
        "colab_type": "text"
      },
      "source": [
        "<a href=\"https://colab.research.google.com/github/sk9288go/DALLE-2-App/blob/0213/Whisper_WebUI_GPU_ipynb%EC%9D%98_%EC%82%AC%EB%B3%B8.ipynb\" target=\"_parent\"><img src=\"https://colab.research.google.com/assets/colab-badge.svg\" alt=\"Open In Colab\"/></a>"
      ]
    },
    {
      "cell_type": "markdown",
      "metadata": {
        "id": "7Y78bxUrVzPF"
      },
      "source": [
        "Checking out WebUI from Git"
      ]
    },
    {
      "cell_type": "code",
      "execution_count": null,
      "metadata": {
        "id": "h85P7mbOVfby"
      },
      "outputs": [],
      "source": [
        "!git clone https://huggingface.co/spaces/aadnk/whisper-webui"
      ]
    },
    {
      "cell_type": "markdown",
      "metadata": {
        "id": "-mZsftNvqYze"
      },
      "source": [
        "Optional: Update Git repository"
      ]
    },
    {
      "cell_type": "code",
      "execution_count": null,
      "metadata": {
        "id": "rJYJGFJPqbdL"
      },
      "outputs": [],
      "source": [
        "!cd whisper-webui/ && git pull origin"
      ]
    },
    {
      "cell_type": "markdown",
      "metadata": {
        "id": "ohLec8LfWBeM"
      },
      "source": [
        "Installing dependencies"
      ]
    },
    {
      "cell_type": "code",
      "execution_count": null,
      "metadata": {
        "id": "-jCbFjWpV_ci"
      },
      "outputs": [],
      "source": [
        "!cd whisper-webui/ && pip install -r requirements.txt"
      ]
    },
    {
      "cell_type": "markdown",
      "metadata": {
        "id": "x55yRVjOWW3c"
      },
      "source": [
        "Run WebUI"
      ]
    },
    {
      "cell_type": "code",
      "execution_count": null,
      "metadata": {
        "id": "IuL5nGTIWYTY"
      },
      "outputs": [],
      "source": [
        "!cd whisper-webui/ && python app.py --input_audio_max_duration -1 --share True"
      ]
    },
    {
      "cell_type": "markdown",
      "metadata": {
        "id": "07ESBkbHdj-N"
      },
      "source": []
    },
    {
      "cell_type": "markdown",
      "metadata": {
        "id": "Qr-wItBTdr0d"
      },
      "source": [
        "# Google Drive\n",
        "\n",
        "This version of the WebUI can automatically save the generated SRT/VTT/Transcript files to Google Drive (requires Google Drive authorization)."
      ]
    },
    {
      "cell_type": "markdown",
      "metadata": {
        "id": "iEu9Q5yreDEw"
      },
      "source": [
        "Mount Google Drive"
      ]
    },
    {
      "cell_type": "code",
      "execution_count": null,
      "metadata": {
        "id": "KHNLATd9d_CP"
      },
      "outputs": [],
      "source": [
        "from google.colab import drive\n",
        "drive.mount('/content/drive')"
      ]
    },
    {
      "cell_type": "markdown",
      "metadata": {
        "id": "fhbQGntFeEwJ"
      },
      "source": [
        "Let Whisper use Google Drive as Temp Directory. Note that the directory \"Whisper\" must exist on your Google Drive (or rename it)."
      ]
    },
    {
      "cell_type": "code",
      "execution_count": null,
      "metadata": {
        "id": "qaXqjHuCecAg"
      },
      "outputs": [],
      "source": [
        "!cd whisper-webui/ && python app.py --input_audio_max_duration -1 --share True --auto_parallel True --output_dir /content/drive/MyDrive/Whisper"
      ]
    },
    {
      "cell_type": "markdown",
      "metadata": {
        "id": "R2mqmp4fQ3k9"
      },
      "source": [
        "# Information"
      ]
    },
    {
      "cell_type": "markdown",
      "metadata": {
        "id": "BNZoCQ7v-u2y"
      },
      "source": [
        "Optional: Get GPU Information (run this before starting the Web UI)"
      ]
    },
    {
      "cell_type": "code",
      "execution_count": null,
      "metadata": {
        "id": "dRgRXEAN-yGH"
      },
      "outputs": [],
      "source": [
        "!nvidia-smi -L"
      ]
    }
  ],
  "metadata": {
    "accelerator": "GPU",
    "colab": {
      "provenance": [],
      "include_colab_link": true
    },
    "kernelspec": {
      "display_name": "Python 3",
      "name": "python3"
    },
    "language_info": {
      "name": "python"
    }
  },
  "nbformat": 4,
  "nbformat_minor": 0
}